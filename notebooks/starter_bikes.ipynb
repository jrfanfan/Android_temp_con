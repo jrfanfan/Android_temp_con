{
  "nbformat": 4,
  "nbformat_minor": 0,
  "metadata": {
    "colab": {
      "name": "starter_bank.ipynb",
      "provenance": [],
      "include_colab_link": true
    },
    "kernelspec": {
      "name": "python3",
      "display_name": "Python 3"
    }
  },
  "cells": [
    {
      "cell_type": "markdown",
      "metadata": {
        "id": "view-in-github",
        "colab_type": "text"
      },
      "source": [
        "<a href=\"https://colab.research.google.com/github/jrfanfan/Android_temp_con/blob/main/notebooks/starter_bikes.ipynb\" target=\"_parent\"><img src=\"https://colab.research.google.com/assets/colab-badge.svg\" alt=\"Open In Colab\"/></a>"
      ]
    },
    {
      "cell_type": "code",
      "metadata": {
        "id": "StiU5QcPPxqQ"
      },
      "source": [
        "# Load Data\n",
        "import pandas as pd\n",
        "\n",
        "bikes = pd.read_csv('https://raw.githubusercontent.com/byui-cse/cse450-course/master/data/bikes.csv')"
      ],
      "execution_count": 75,
      "outputs": []
    },
    {
      "cell_type": "code",
      "metadata": {
        "id": "ALLMN63FPyEQ",
        "colab": {
          "base_uri": "https://localhost:8080/"
        },
        "outputId": "c541efa7-47d0-42c4-9163-aeb763ba2adc"
      },
      "source": [
        "bikes.info()"
      ],
      "execution_count": 14,
      "outputs": [
        {
          "output_type": "stream",
          "name": "stdout",
          "text": [
            "<class 'pandas.core.frame.DataFrame'>\n",
            "RangeIndex: 112475 entries, 0 to 112474\n",
            "Data columns (total 12 columns):\n",
            " #   Column        Non-Null Count   Dtype         \n",
            "---  ------        --------------   -----         \n",
            " 0   dteday        112475 non-null  datetime64[ns]\n",
            " 1   hr            112475 non-null  float64       \n",
            " 2   casual        112475 non-null  int64         \n",
            " 3   registered    112475 non-null  int64         \n",
            " 4   temp_c        112475 non-null  float64       \n",
            " 5   feels_like_c  112475 non-null  float64       \n",
            " 6   hum           112475 non-null  float64       \n",
            " 7   windspeed     112475 non-null  float64       \n",
            " 8   weathersit    112475 non-null  int64         \n",
            " 9   season        112475 non-null  int64         \n",
            " 10  holiday       112475 non-null  int64         \n",
            " 11  workingday    112475 non-null  int64         \n",
            "dtypes: datetime64[ns](1), float64(5), int64(6)\n",
            "memory usage: 10.3 MB\n"
          ]
        }
      ]
    },
    {
      "cell_type": "code",
      "metadata": {
        "id": "RnGBwGVZPyyh",
        "colab": {
          "base_uri": "https://localhost:8080/"
        },
        "outputId": "07a6bbf1-d7a9-4458-f16e-c30ee5f3ce73"
      },
      "source": [
        "# Convert bikes['dteday'] object to date\n",
        "bikes['dteday'] = pd.to_datetime(bikes['dteday'])\n",
        "bikes['yr'] = bikes['dteday'].dt.year\n",
        "bikes['mnth'] = bikes['dteday'].dt.month\n",
        "bikes['day'] = bikes['dteday'].dt.day\n",
        "bikes.info()\n"
      ],
      "execution_count": 25,
      "outputs": [
        {
          "output_type": "stream",
          "name": "stdout",
          "text": [
            "<class 'pandas.core.frame.DataFrame'>\n",
            "RangeIndex: 112475 entries, 0 to 112474\n",
            "Data columns (total 16 columns):\n",
            " #   Column        Non-Null Count   Dtype         \n",
            "---  ------        --------------   -----         \n",
            " 0   dteday        112475 non-null  datetime64[ns]\n",
            " 1   hr            112475 non-null  float64       \n",
            " 2   casual        112475 non-null  int64         \n",
            " 3   registered    112475 non-null  int64         \n",
            " 4   temp_c        112475 non-null  float64       \n",
            " 5   feels_like_c  112475 non-null  float64       \n",
            " 6   hum           112475 non-null  float64       \n",
            " 7   windspeed     112475 non-null  float64       \n",
            " 8   weathersit    112475 non-null  int64         \n",
            " 9   season        112475 non-null  int64         \n",
            " 10  holiday       112475 non-null  int64         \n",
            " 11  workingday    112475 non-null  int64         \n",
            " 12  rent_total    112475 non-null  int64         \n",
            " 13  yr            112475 non-null  int32         \n",
            " 14  mnth          112475 non-null  int32         \n",
            " 15  day           112475 non-null  int32         \n",
            "dtypes: datetime64[ns](1), float64(5), int32(3), int64(7)\n",
            "memory usage: 12.4 MB\n"
          ]
        }
      ]
    },
    {
      "cell_type": "code",
      "metadata": {
        "id": "CVSfaqgKPzE2"
      },
      "source": [
        "# Sum of bikes['casual'] and bikes['registered']\n",
        "bikes['rent_total'] = bikes['casual'] + bikes['registered']\n",
        "bikes"
      ],
      "execution_count": null,
      "outputs": []
    },
    {
      "cell_type": "code",
      "source": [
        "# Create a new dataframe called X that contians the features we're going\n",
        "# to use to make predictions\n",
        "X = bikes.drop(columns=['dteday', 'casual', 'registered', 'rent_total'])\n"
      ],
      "metadata": {
        "id": "l3YR78sTnX-p"
      },
      "execution_count": null,
      "outputs": []
    },
    {
      "cell_type": "code",
      "source": [
        "# Create a new dataframe called y that contians the target we're\n",
        "# trying to predict\n",
        "y = bikes['rent_total']"
      ],
      "metadata": {
        "id": "WTUb5qYYp96d"
      },
      "execution_count": 30,
      "outputs": []
    },
    {
      "cell_type": "code",
      "source": [
        "# Import and use the train_test_split() function to split the X and y\n",
        "# dataframes into training and test sets.\n",
        "import sklearn.model_selection\n",
        "from sklearn.model_selection import train_test_split\n",
        "X_train, X_test, y_train, y_test = train_test_split(X, y, test_size=0.3, random_state=42)"
      ],
      "metadata": {
        "id": "-pYgqi5puZQc"
      },
      "execution_count": 43,
      "outputs": []
    },
    {
      "cell_type": "code",
      "source": [
        "from sklearn.preprocessing import MinMaxScaler\n",
        "\n",
        "# fit scaler on training data\n",
        "norm = MinMaxScaler().fit(X_train)\n",
        "\n",
        "# transform training data\n",
        "X_train = norm.transform(X_train)\n",
        "\n",
        "# transform testing dataabs\n",
        "X_test = norm.transform(X_test)"
      ],
      "metadata": {
        "id": "Yq-BdBZawl11"
      },
      "execution_count": 64,
      "outputs": []
    },
    {
      "cell_type": "code",
      "source": [
        "# Import the libraries we need\n",
        "# TensorFlow and tf.keras\n",
        "import tensorflow as tf\n",
        "from tensorflow import keras\n",
        "from tensorflow.keras import Sequential\n",
        "from tensorflow.keras.layers import Conv2D, MaxPooling2D, Dropout, Flatten, Dense"
      ],
      "metadata": {
        "id": "MaGAKcZy1ZwJ"
      },
      "execution_count": 66,
      "outputs": []
    },
    {
      "cell_type": "code",
      "source": [
        "# create a function that returns a model, taking as parameters things you\n",
        "# want to verify using cross-valdiation and model selection\n",
        "def create_model(optimizer='adagrad',\n",
        "                  kernel_initializer='glorot_uniform',\n",
        "                  dropout=0.2):\n",
        "    model = Sequential()\n",
        "    model.add(Dense(64,activation='relu',kernel_initializer=kernel_initializer))\n",
        "    model.add(Dropout(dropout))\n",
        "    model.add(Dense(1,activation='sigmoid',kernel_initializer=kernel_initializer))\n",
        "\n",
        "    model.compile(loss='binary_crossentropy',optimizer=optimizer, metrics=['accuracy'])\n",
        "\n",
        "    return model\n",
        "\n",
        "# wrap the model using the function you created\n",
        "clf = KerasRegressor(build_fn=create_model,verbose=0)\n",
        "\n",
        "# just create the pipeline\n",
        "pipeline = Pipeline([\n",
        "    ('clf',clf)\n",
        "])\n",
        "\n",
        "pipeline.fit(X_train, y_train)"
      ],
      "metadata": {
        "colab": {
          "base_uri": "https://localhost:8080/",
          "height": 214
        },
        "id": "SnjIjVFY4elj",
        "outputId": "6813cb03-0636-4dbd-ecce-9b160cf08efe"
      },
      "execution_count": 74,
      "outputs": [
        {
          "output_type": "error",
          "ename": "NameError",
          "evalue": "name 'KerasRegressor' is not defined",
          "traceback": [
            "\u001b[0;31m---------------------------------------------------------------------------\u001b[0m",
            "\u001b[0;31mNameError\u001b[0m                                 Traceback (most recent call last)",
            "\u001b[0;32m<ipython-input-74-2862847f3967>\u001b[0m in \u001b[0;36m<cell line: 0>\u001b[0;34m()\u001b[0m\n\u001b[1;32m     14\u001b[0m \u001b[0;34m\u001b[0m\u001b[0m\n\u001b[1;32m     15\u001b[0m \u001b[0;31m# wrap the model using the function you created\u001b[0m\u001b[0;34m\u001b[0m\u001b[0;34m\u001b[0m\u001b[0m\n\u001b[0;32m---> 16\u001b[0;31m \u001b[0mclf\u001b[0m \u001b[0;34m=\u001b[0m \u001b[0mKerasRegressor\u001b[0m\u001b[0;34m(\u001b[0m\u001b[0mbuild_fn\u001b[0m\u001b[0;34m=\u001b[0m\u001b[0mcreate_model\u001b[0m\u001b[0;34m,\u001b[0m\u001b[0mverbose\u001b[0m\u001b[0;34m=\u001b[0m\u001b[0;36m0\u001b[0m\u001b[0;34m)\u001b[0m\u001b[0;34m\u001b[0m\u001b[0;34m\u001b[0m\u001b[0m\n\u001b[0m\u001b[1;32m     17\u001b[0m \u001b[0;34m\u001b[0m\u001b[0m\n\u001b[1;32m     18\u001b[0m \u001b[0;31m# just create the pipeline\u001b[0m\u001b[0;34m\u001b[0m\u001b[0;34m\u001b[0m\u001b[0m\n",
            "\u001b[0;31mNameError\u001b[0m: name 'KerasRegressor' is not defined"
          ]
        }
      ]
    }
  ]
}